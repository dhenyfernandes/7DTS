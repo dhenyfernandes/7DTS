{
 "cells": [
  {
   "cell_type": "markdown",
   "metadata": {},
   "source": [
    "# Aula 2"
   ]
  },
  {
   "cell_type": "markdown",
   "metadata": {},
   "source": [
    "## Funções"
   ]
  },
  {
   "cell_type": "code",
   "execution_count": 2,
   "metadata": {},
   "outputs": [],
   "source": [
    "#implementação recursiva\n",
    "def fatorial(num):\n",
    "    \"\"\"\n",
    "    Esta função calcula o fatorial de um número\n",
    "    usando implementação recursiva\n",
    "    \n",
    "    args: num (int) - número a partir do qual \n",
    "    será calculado o fatorial\n",
    "    \n",
    "    return: o fatorial de num\n",
    "    \"\"\"\n",
    "    if (num <= 1):\n",
    "        return 1\n",
    "    else:\n",
    "        return(num * fatorial(num - 1))"
   ]
  },
  {
   "cell_type": "code",
   "execution_count": 1,
   "metadata": {},
   "outputs": [
    {
     "data": {
      "text/plain": [
       "120"
      ]
     },
     "execution_count": 1,
     "metadata": {},
     "output_type": "execute_result"
    }
   ],
   "source": [
    "5*4*3*2*1"
   ]
  },
  {
   "cell_type": "code",
   "execution_count": 4,
   "metadata": {},
   "outputs": [
    {
     "data": {
      "text/plain": [
       "1"
      ]
     },
     "execution_count": 4,
     "metadata": {},
     "output_type": "execute_result"
    }
   ],
   "source": [
    "y = fatorial(-5)\n",
    "y"
   ]
  },
  {
   "cell_type": "code",
   "execution_count": 5,
   "metadata": {},
   "outputs": [],
   "source": [
    "# Verifica se um número é par\n",
    "def numero_par(num):\n",
    "    resto = num % 2\n",
    "    if (resto == 0):\n",
    "        return True\n",
    "    else:\n",
    "        return False"
   ]
  },
  {
   "cell_type": "code",
   "execution_count": 8,
   "metadata": {},
   "outputs": [
    {
     "name": "stdout",
     "output_type": "stream",
     "text": [
      "True\n"
     ]
    }
   ],
   "source": [
    "print(numero_par(4))"
   ]
  },
  {
   "cell_type": "code",
   "execution_count": null,
   "metadata": {},
   "outputs": [],
   "source": []
  },
  {
   "cell_type": "markdown",
   "metadata": {},
   "source": [
    "## TODO Section"
   ]
  },
  {
   "cell_type": "markdown",
   "metadata": {},
   "source": [
    "### 1)\n",
    "TODO: Crie uma função que retorne na forma de um dicionário as seguintes informações do texto abaixo: \n",
    "número de palavras, número de números e número de frases.\n",
    "\n",
    "Dica: a função isdigit() pode ser útil para determinar o tipo de \n",
    "caracter;\n",
    "Dica: split() usa um caracter (a ser inserido dentro dos parenteses) para separar uma string"
   ]
  },
  {
   "cell_type": "markdown",
   "metadata": {},
   "source": [
    "### Texto\n",
    "\n",
    "Brasil, oficialmente República Federativa do Brasil é o maior país da América do Sul e da região da América Latina, sendo o quinto maior do mundo em área territorial (equivalente a 47 porcento do território sul-americano) e sexto em população (com mais de 200 milhões de habitantes). É o único país na América onde se fala majoritariamente a língua portuguesa e o maior país lusófono do planeta, além de ser uma das nações mais multiculturais e etnicamente diversas, em decorrência da forte imigração oriunda de variados locais do mundo."
   ]
  },
  {
   "cell_type": "code",
   "execution_count": 9,
   "metadata": {
    "tags": []
   },
   "outputs": [
    {
     "name": "stdout",
     "output_type": "stream",
     "text": [
      "O documento possui 87 palavras, 2 números e 2 frases.\n"
     ]
    }
   ],
   "source": [
    "# Resposta 1\n",
    "texto = \"Brasil, oficialmente República Federativa do Brasil é o maior país da América do Sul e da região da América Latina, sendo o quinto \\\n",
    "maior do mundo em área territorial (equivalente a 47 porcento do território sul-americano) e sexto em população (com mais de 200 milhões de \\\n",
    "habitantes). É o único país na América onde se fala majoritariamente a língua portuguesa e o maior país lusófono do planeta, além de ser uma \\\n",
    "das nações mais multiculturais e etnicamente diversas, em decorrência da forte imigração oriunda de variados locais do mundo.\"\n",
    "\n",
    "def contador(text):\n",
    "    words = len(text.split(\" \"))\n",
    "    numbers = 0\n",
    "    for word in text.split(\" \"):\n",
    "        if word.isdigit():\n",
    "            numbers += 1 #numbers = numbers + 1\n",
    "    phrases = len(text.split('. '))\n",
    "    \n",
    "    return {'words':words,'numbers':numbers,'phrases':phrases}\n",
    "\n",
    "dict_alike = contador(texto)\n",
    "\n",
    "print(\"O documento possui \" + str(dict_alike['words']-dict_alike['numbers']) + \n",
    "      \" palavras, \" + str(dict_alike['numbers']) + \" números e \" + str(dict_alike['phrases']) + \n",
    "      (\" frases.\"))"
   ]
  },
  {
   "cell_type": "markdown",
   "metadata": {},
   "source": [
    "### 2)\n",
    "\n",
    "TODO: implemente uma função que recebe uma lista com 100 números, de 0 a 99, e retorne outra lista contendo apenas números primos.\n",
    "\n",
    "Dica: use o método arange() para gerar uma lista. [arange](https://numpy.org/doc/stable/reference/generated/numpy.arange.html)"
   ]
  },
  {
   "cell_type": "code",
   "execution_count": 10,
   "metadata": {},
   "outputs": [],
   "source": [
    "import numpy as np\n",
    "lista = np.arange(0, 100)"
   ]
  },
  {
   "cell_type": "code",
   "execution_count": 11,
   "metadata": {},
   "outputs": [
    {
     "data": {
      "text/plain": [
       "array([ 0,  1,  2,  3,  4,  5,  6,  7,  8,  9, 10, 11, 12, 13, 14, 15, 16,\n",
       "       17, 18, 19, 20, 21, 22, 23, 24, 25, 26, 27, 28, 29, 30, 31, 32, 33,\n",
       "       34, 35, 36, 37, 38, 39, 40, 41, 42, 43, 44, 45, 46, 47, 48, 49, 50,\n",
       "       51, 52, 53, 54, 55, 56, 57, 58, 59, 60, 61, 62, 63, 64, 65, 66, 67,\n",
       "       68, 69, 70, 71, 72, 73, 74, 75, 76, 77, 78, 79, 80, 81, 82, 83, 84,\n",
       "       85, 86, 87, 88, 89, 90, 91, 92, 93, 94, 95, 96, 97, 98, 99])"
      ]
     },
     "execution_count": 11,
     "metadata": {},
     "output_type": "execute_result"
    }
   ],
   "source": [
    "lista"
   ]
  },
  {
   "cell_type": "code",
   "execution_count": 12,
   "metadata": {
    "tags": []
   },
   "outputs": [
    {
     "name": "stdout",
     "output_type": "stream",
     "text": [
      "numeros primos =  [2, 3, 5, 7, 11, 13, 17, 19, 23, 29, 31, 37, 41, 43, 47, 53, 59, 61, 67, 71, 73, 79, 83, 89, 97]\n"
     ]
    }
   ],
   "source": [
    "# Resposta 2\n",
    "def ehPrimo(num):\n",
    "    if num == 0:\n",
    "        return False\n",
    "    elif num == 1:\n",
    "        return False\n",
    "    else:\n",
    "        for i in range(2, num):\n",
    "            if (num % i) == 0:\n",
    "                return False\n",
    "\n",
    "    return True\n",
    "\n",
    "def apenasPrimos(l):\n",
    "    r = []\n",
    "    for i in l:\n",
    "        if(ehPrimo(i)): \n",
    "            r.append(i)\n",
    "    \n",
    "    return r\n",
    "\n",
    "print (\"numeros primos = \", apenasPrimos(lista))"
   ]
  },
  {
   "cell_type": "markdown",
   "metadata": {},
   "source": [
    "### Chamando um módulo"
   ]
  },
  {
   "cell_type": "code",
   "execution_count": 15,
   "metadata": {},
   "outputs": [
    {
     "name": "stdout",
     "output_type": "stream",
     "text": [
      "38.5\n"
     ]
    }
   ],
   "source": [
    "import calc\n",
    "l = [23, 54, 31, 77, 12, 34]\n",
    "print (calc.media(l))"
   ]
  },
  {
   "cell_type": "markdown",
   "metadata": {},
   "source": [
    "## Arquivos e I/O"
   ]
  },
  {
   "cell_type": "code",
   "execution_count": 16,
   "metadata": {},
   "outputs": [
    {
     "name": "stdout",
     "output_type": "stream",
     "text": [
      "000\n",
      "001\n",
      "002\n",
      "003\n",
      "004\n",
      "005\n",
      "006\n",
      "007\n",
      "008\n",
      "009\n",
      "010\n",
      "011\n",
      "012\n",
      "013\n",
      "014\n",
      "015\n",
      "016\n",
      "017\n",
      "018\n",
      "019\n",
      "020\n",
      "021\n",
      "022\n",
      "023\n",
      "024\n",
      "025\n",
      "026\n",
      "027\n",
      "028\n",
      "029\n",
      "030\n",
      "031\n",
      "032\n",
      "033\n",
      "034\n",
      "035\n",
      "036\n",
      "037\n",
      "038\n",
      "039\n",
      "040\n",
      "041\n",
      "042\n",
      "043\n",
      "044\n",
      "045\n",
      "046\n",
      "047\n",
      "048\n",
      "049\n",
      "050\n",
      "051\n",
      "052\n",
      "053\n",
      "054\n",
      "055\n",
      "056\n",
      "057\n",
      "058\n",
      "059\n",
      "060\n",
      "061\n",
      "062\n",
      "063\n",
      "064\n",
      "065\n",
      "066\n",
      "067\n",
      "068\n",
      "069\n",
      "070\n",
      "071\n",
      "072\n",
      "073\n",
      "074\n",
      "075\n",
      "076\n",
      "077\n",
      "078\n",
      "079\n",
      "080\n",
      "081\n",
      "082\n",
      "083\n",
      "084\n",
      "085\n",
      "086\n",
      "087\n",
      "088\n",
      "089\n",
      "090\n",
      "091\n",
      "092\n",
      "093\n",
      "094\n",
      "095\n",
      "096\n",
      "097\n",
      "098\n",
      "099\n"
     ]
    }
   ],
   "source": [
    "import sys\n",
    "# Criando um objeto do tipo file\n",
    "temp = open('temp.txt', 'w')\n",
    "# Escrevendo no arquivo\n",
    "for i in range(100):\n",
    "    temp.write('%03d\\n' % i)\n",
    "# Fechando\n",
    "temp.close()\n",
    "temp = open('temp.txt', 'r')\n",
    "# Escrevendo no terminal\n",
    "for x in temp:\n",
    "    # Escrever em sys.stdout envia o texto para a saída padrão\n",
    "    sys.stdout.write(x)\n",
    "temp.close()"
   ]
  },
  {
   "cell_type": "code",
   "execution_count": 18,
   "metadata": {},
   "outputs": [
    {
     "name": "stdin",
     "output_type": "stream",
     "text": [
      "Nome do arquivo:  temp.txt\n"
     ]
    },
    {
     "name": "stdout",
     "output_type": "stream",
     "text": [
      "1 000\n",
      "\n",
      "2 001\n",
      "\n",
      "3 002\n",
      "\n",
      "4 003\n",
      "\n",
      "5 004\n",
      "\n",
      "6 005\n",
      "\n",
      "7 006\n",
      "\n",
      "8 007\n",
      "\n",
      "9 008\n",
      "\n",
      "10 009\n",
      "\n",
      "11 010\n",
      "\n",
      "12 011\n",
      "\n",
      "13 012\n",
      "\n",
      "14 013\n",
      "\n",
      "15 014\n",
      "\n",
      "16 015\n",
      "\n",
      "17 016\n",
      "\n",
      "18 017\n",
      "\n",
      "19 018\n",
      "\n",
      "20 019\n",
      "\n",
      "21 020\n",
      "\n",
      "22 021\n",
      "\n",
      "23 022\n",
      "\n",
      "24 023\n",
      "\n",
      "25 024\n",
      "\n",
      "26 025\n",
      "\n",
      "27 026\n",
      "\n",
      "28 027\n",
      "\n",
      "29 028\n",
      "\n",
      "30 029\n",
      "\n",
      "31 030\n",
      "\n",
      "32 031\n",
      "\n",
      "33 032\n",
      "\n",
      "34 033\n",
      "\n",
      "35 034\n",
      "\n",
      "36 035\n",
      "\n",
      "37 036\n",
      "\n",
      "38 037\n",
      "\n",
      "39 038\n",
      "\n",
      "40 039\n",
      "\n",
      "41 040\n",
      "\n",
      "42 041\n",
      "\n",
      "43 042\n",
      "\n",
      "44 043\n",
      "\n",
      "45 044\n",
      "\n",
      "46 045\n",
      "\n",
      "47 046\n",
      "\n",
      "48 047\n",
      "\n",
      "49 048\n",
      "\n",
      "50 049\n",
      "\n",
      "51 050\n",
      "\n",
      "52 051\n",
      "\n",
      "53 052\n",
      "\n",
      "54 053\n",
      "\n",
      "55 054\n",
      "\n",
      "56 055\n",
      "\n",
      "57 056\n",
      "\n",
      "58 057\n",
      "\n",
      "59 058\n",
      "\n",
      "60 059\n",
      "\n",
      "61 060\n",
      "\n",
      "62 061\n",
      "\n",
      "63 062\n",
      "\n",
      "64 063\n",
      "\n",
      "65 064\n",
      "\n",
      "66 065\n",
      "\n",
      "67 066\n",
      "\n",
      "68 067\n",
      "\n",
      "69 068\n",
      "\n",
      "70 069\n",
      "\n",
      "71 070\n",
      "\n",
      "72 071\n",
      "\n",
      "73 072\n",
      "\n",
      "74 073\n",
      "\n",
      "75 074\n",
      "\n",
      "76 075\n",
      "\n",
      "77 076\n",
      "\n",
      "78 077\n",
      "\n",
      "79 078\n",
      "\n",
      "80 079\n",
      "\n",
      "81 080\n",
      "\n",
      "82 081\n",
      "\n",
      "83 082\n",
      "\n",
      "84 083\n",
      "\n",
      "85 084\n",
      "\n",
      "86 085\n",
      "\n",
      "87 086\n",
      "\n",
      "88 087\n",
      "\n",
      "89 088\n",
      "\n",
      "90 089\n",
      "\n",
      "91 090\n",
      "\n",
      "92 091\n",
      "\n",
      "93 092\n",
      "\n",
      "94 093\n",
      "\n",
      "95 094\n",
      "\n",
      "96 095\n",
      "\n",
      "97 096\n",
      "\n",
      "98 097\n",
      "\n",
      "99 098\n",
      "\n",
      "100 099\n",
      "\n"
     ]
    }
   ],
   "source": [
    "import sys\n",
    "import os.path\n",
    "# input() retorna a string digitada\n",
    "fn = input('Nome do arquivo: ').strip() #remove espaço em branco extra do nome do arquivo\n",
    "if not os.path.exists(fn):\n",
    "    print ('Tente outra vez...')\n",
    "    sys.exit() # pare a execução do programa\n",
    "# Numerando as linhas\n",
    "for i, s in enumerate(open(fn)):\n",
    "    print (i + 1, s,)"
   ]
  },
  {
   "cell_type": "code",
   "execution_count": 19,
   "metadata": {},
   "outputs": [
    {
     "name": "stdout",
     "output_type": "stream",
     "text": [
      "['000\\n', '001\\n', '002\\n', '003\\n', '004\\n', '005\\n', '006\\n', '007\\n', '008\\n', '009\\n', '010\\n', '011\\n', '012\\n', '013\\n', '014\\n', '015\\n', '016\\n', '017\\n', '018\\n', '019\\n', '020\\n', '021\\n', '022\\n', '023\\n', '024\\n', '025\\n', '026\\n', '027\\n', '028\\n', '029\\n', '030\\n', '031\\n', '032\\n', '033\\n', '034\\n', '035\\n', '036\\n', '037\\n', '038\\n', '039\\n', '040\\n', '041\\n', '042\\n', '043\\n', '044\\n', '045\\n', '046\\n', '047\\n', '048\\n', '049\\n', '050\\n', '051\\n', '052\\n', '053\\n', '054\\n', '055\\n', '056\\n', '057\\n', '058\\n', '059\\n', '060\\n', '061\\n', '062\\n', '063\\n', '064\\n', '065\\n', '066\\n', '067\\n', '068\\n', '069\\n', '070\\n', '071\\n', '072\\n', '073\\n', '074\\n', '075\\n', '076\\n', '077\\n', '078\\n', '079\\n', '080\\n', '081\\n', '082\\n', '083\\n', '084\\n', '085\\n', '086\\n', '087\\n', '088\\n', '089\\n', '090\\n', '091\\n', '092\\n', '093\\n', '094\\n', '095\\n', '096\\n', '097\\n', '098\\n', '099\\n']\n"
     ]
    }
   ],
   "source": [
    "# Imprime uma lista contendo linhas do arquivo\n",
    "print (open('temp.txt').readlines())"
   ]
  },
  {
   "cell_type": "markdown",
   "metadata": {},
   "source": [
    "## Trabalhando com Tempo"
   ]
  },
  {
   "cell_type": "code",
   "execution_count": 20,
   "metadata": {},
   "outputs": [
    {
     "name": "stdout",
     "output_type": "stream",
     "text": [
      "time.struct_time(tm_year=2023, tm_mon=6, tm_mday=22, tm_hour=22, tm_min=16, tm_sec=27, tm_wday=3, tm_yday=173, tm_isdst=0)\n",
      "Thu Jun 22 22:16:27 2023\n",
      "Espera 3 segundos e imprime na tela\n",
      "\n",
      "Espera 3 segundos e imprime na tela\n",
      "\n",
      "Espera 3 segundos e imprime na tela\n",
      "\n",
      "Espera 3 segundos e imprime na tela\n",
      "\n",
      "Espera 3 segundos e imprime na tela\n",
      "\n"
     ]
    }
   ],
   "source": [
    "import time\n",
    "print (time.localtime()) #imprime como uma estrutura\n",
    "print (time.asctime()) #imprime como string\n",
    "for x in range(5):\n",
    "    time.sleep(3)\n",
    "    print('Espera 3 segundos e imprime na tela\\n')"
   ]
  },
  {
   "cell_type": "code",
   "execution_count": 21,
   "metadata": {},
   "outputs": [
    {
     "data": {
      "text/plain": [
       "\u001b[0;31mDocstring:\u001b[0m\n",
       "localtime([seconds]) -> (tm_year,tm_mon,tm_mday,tm_hour,tm_min,\n",
       "                          tm_sec,tm_wday,tm_yday,tm_isdst)\n",
       "\n",
       "Convert seconds since the Epoch to a time tuple expressing local time.\n",
       "When 'seconds' is not passed in, convert the current time instead.\n",
       "\u001b[0;31mType:\u001b[0m      builtin_function_or_method"
      ]
     },
     "metadata": {},
     "output_type": "display_data"
    }
   ],
   "source": [
    "time.localtime?"
   ]
  },
  {
   "cell_type": "code",
   "execution_count": 22,
   "metadata": {},
   "outputs": [
    {
     "name": "stdout",
     "output_type": "stream",
     "text": [
      "499999500000\n",
      "tempo decorrido:  0.09939837455749512 segundos\n"
     ]
    }
   ],
   "source": [
    "start_time = time.time()\n",
    "x = 0\n",
    "for i in range(0,1000000):\n",
    "    x += i\n",
    "end_time = time.time()\n",
    "\n",
    "print(x)\n",
    "print('tempo decorrido: ',end_time-start_time, 'segundos')"
   ]
  },
  {
   "cell_type": "code",
   "execution_count": 23,
   "metadata": {},
   "outputs": [
    {
     "name": "stdout",
     "output_type": "stream",
     "text": [
      "Data: 2023-12-31\n",
      "Hora: 23:59:59\n",
      "Quanto tempo falta para 31/12/2023: 192 days, 1:36:38.701652\n",
      "1 ano a partir de agora será: 2024-06-21 22:23:20.298888\n"
     ]
    }
   ],
   "source": [
    "import datetime\n",
    "from datetime import timedelta\n",
    "\n",
    "dt = datetime.datetime(2023, 12, 31, 23, 59, 59) #criando uma data com horário\n",
    "\n",
    "data = dt.date() #retorna a data\n",
    "hora = dt.time() #retorna o horário\n",
    "\n",
    "dd = dt - dt.today() #cálculo de tempo\n",
    "print ('Data:', data)\n",
    "print ('Hora:', hora)\n",
    "print ('Quanto tempo falta para 31/12/2023:', dd)\n",
    "print ('1 ano a partir de agora será: '+ str(datetime.datetime.now() + timedelta(days=365)))"
   ]
  },
  {
   "cell_type": "code",
   "execution_count": 24,
   "metadata": {},
   "outputs": [
    {
     "data": {
      "text/plain": [
       "datetime.datetime(2023, 12, 31, 23, 59, 59)"
      ]
     },
     "execution_count": 24,
     "metadata": {},
     "output_type": "execute_result"
    }
   ],
   "source": [
    "dt"
   ]
  },
  {
   "cell_type": "markdown",
   "metadata": {},
   "source": [
    "## Regex - Expressões Regulares"
   ]
  },
  {
   "cell_type": "code",
   "execution_count": 25,
   "metadata": {},
   "outputs": [
    {
     "name": "stdout",
     "output_type": "stream",
     "text": [
      "Queen, Aerosmith & Beatles -> ['Queen', 'Aerosmith', 'Beatles']\n"
     ]
    }
   ],
   "source": [
    "import re\n",
    "rex = re.compile('\\w+') #qualquer caracter alfanumérico - compilado\n",
    "bandas = 'Queen, Aerosmith & Beatles'\n",
    "print (bandas, '->', rex.findall(bandas))\n"
   ]
  },
  {
   "cell_type": "code",
   "execution_count": 26,
   "metadata": {},
   "outputs": [
    {
     "name": "stdout",
     "output_type": "stream",
     "text": [
      "Phone Num :  2004-959-559 \n"
     ]
    }
   ],
   "source": [
    "phone = \"2004-959-559 # This is Phone Number\"\n",
    "num = re.sub('#.*$', \"\", phone) #elimina tudo após #\n",
    "print (\"Phone Num : \", num)"
   ]
  },
  {
   "cell_type": "code",
   "execution_count": 27,
   "metadata": {},
   "outputs": [
    {
     "name": "stdout",
     "output_type": "stream",
     "text": [
      "Phone Num :  2004959559\n"
     ]
    }
   ],
   "source": [
    "num = re.sub('\\D', \"\", phone)# só deixa número\n",
    "print (\"Phone Num : \", num)"
   ]
  },
  {
   "cell_type": "markdown",
   "metadata": {},
   "source": [
    "## TODO Section"
   ]
  },
  {
   "cell_type": "markdown",
   "metadata": {},
   "source": [
    "### 3)\n",
    "Crie uma função que receba uma data no formato yyyy-mm-dd e, usando Regex, retorne essa data no formato dd-mm-yyyy"
   ]
  },
  {
   "cell_type": "code",
   "execution_count": null,
   "metadata": {
    "jupyter": {
     "source_hidden": true
    },
    "tags": []
   },
   "outputs": [],
   "source": [
    "# Resposta\n",
    "import re\n",
    "def change_date_format(dt):\n",
    "        return re.sub(r'(\\d{4})-(\\d{1,2})-(\\d{1,2})', '\\\\3-\\\\2-\\\\1', dt)\n",
    "dt1 = \"2020-08-10\"\n",
    "print(\"Data original no formato YYYY-MM-DD: \",dt1)\n",
    "print(\"Nova data no formato DD-MM-YYYY: \",change_date_format(dt1))"
   ]
  },
  {
   "cell_type": "markdown",
   "metadata": {},
   "source": [
    "### 4)\n",
    "\n",
    "Escreva uma função que receba duas datas (formato datetime '%Y-%m-%d %H:%M:%S') e retorne a diferença entre elas em dias, horas, minutos e segundos\n",
    "\n",
    "Dica: a função divmod() pode ser útil: [link](https://www.programiz.com/python-programming/methods/built-in/divmod)"
   ]
  },
  {
   "cell_type": "code",
   "execution_count": null,
   "metadata": {
    "jupyter": {
     "source_hidden": true
    },
    "tags": []
   },
   "outputs": [],
   "source": [
    "# Resposta\n",
    "from datetime import datetime, time\n",
    "\n",
    "def date_diff_in_seconds(dt2, dt1):\n",
    "    timedelta = dt2 - dt1\n",
    "    return timedelta.days * 24 * 3600 + timedelta.seconds\n",
    "\n",
    "def dhms_from_seconds(seconds):\n",
    "    minutes, seconds = divmod(seconds, 60)\n",
    "    hours, minutes = divmod(minutes, 60)\n",
    "    days, hours = divmod(hours, 24)\n",
    "    return (days, hours, minutes, seconds)\n",
    "\n",
    "date1 = datetime.strptime('2018-01-01 01:00:00', '%Y-%m-%d %H:%M:%S')\n",
    "\n",
    "date2 = datetime.now()\n",
    "\n",
    "print(\"\\n%d dias, %d horas, %d minutos, %d segundos\" % dhms_from_seconds(date_diff_in_seconds(date2, date1)))\n",
    "print()"
   ]
  },
  {
   "cell_type": "code",
   "execution_count": null,
   "metadata": {},
   "outputs": [],
   "source": []
  }
 ],
 "metadata": {
  "kernelspec": {
   "display_name": "Python 3 (ipykernel)",
   "language": "python",
   "name": "python3"
  },
  "language_info": {
   "codemirror_mode": {
    "name": "ipython",
    "version": 3
   },
   "file_extension": ".py",
   "mimetype": "text/x-python",
   "name": "python",
   "nbconvert_exporter": "python",
   "pygments_lexer": "ipython3",
   "version": "3.10.9"
  }
 },
 "nbformat": 4,
 "nbformat_minor": 4
}
