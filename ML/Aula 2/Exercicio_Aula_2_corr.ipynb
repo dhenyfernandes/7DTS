{
 "cells": [
  {
   "cell_type": "markdown",
   "id": "crucial-tuesday",
   "metadata": {},
   "source": [
    "# Multiple Linear Regression"
   ]
  },
  {
   "cell_type": "markdown",
   "id": "violent-peripheral",
   "metadata": {},
   "source": [
    "# TO-Do 1\n",
    "\n",
    "Execute uma regressão linear múltipla no dataset Bike_Sharing.csv que vocês manipularam na disciplina Statistics Fundamentals, da professora Regina"
   ]
  },
  {
   "cell_type": "code",
   "execution_count": null,
   "id": "animal-jonathan",
   "metadata": {},
   "outputs": [],
   "source": [
    "from sklearn import linear_model\n",
    "from sklearn.metrics import mean_squared_error\n",
    "from sklearn.model_selection import train_test_split\n",
    "import pandas as pd\n",
    "import numpy as np"
   ]
  },
  {
   "cell_type": "code",
   "execution_count": null,
   "id": "raising-canyon",
   "metadata": {
    "jupyter": {
     "source_hidden": true
    }
   },
   "outputs": [],
   "source": [
    "df = pd.read_csv('bases/Bike_Sharing.csv')\n",
    "df.head()"
   ]
  },
  {
   "cell_type": "code",
   "execution_count": null,
   "id": "strange-house",
   "metadata": {
    "jupyter": {
     "source_hidden": true
    }
   },
   "outputs": [],
   "source": [
    "X = df.iloc[:,2:-3].values\n",
    "y = df.iloc[:,-1]\n",
    "X_train, X_test, y_train, y_test = train_test_split(X, y, test_size=0.3, random_state=42)"
   ]
  },
  {
   "cell_type": "code",
   "execution_count": null,
   "id": "german-symphony",
   "metadata": {
    "jupyter": {
     "source_hidden": true
    }
   },
   "outputs": [],
   "source": [
    "y_train"
   ]
  },
  {
   "cell_type": "code",
   "execution_count": null,
   "id": "finite-momentum",
   "metadata": {
    "jupyter": {
     "source_hidden": true
    }
   },
   "outputs": [],
   "source": [
    "mlr_skl = linear_model.LinearRegression()\n",
    "mlr_skl.fit(X_train, y_train.ravel())"
   ]
  },
  {
   "cell_type": "code",
   "execution_count": null,
   "id": "differential-lawyer",
   "metadata": {
    "jupyter": {
     "source_hidden": true
    }
   },
   "outputs": [],
   "source": [
    "y_pred = mlr_skl.predict(X_test) # predizando\n",
    "print(mean_squared_error(y_test,y_pred)) # MSE\n",
    "mlr_skl.coef_  #valores finais de theta"
   ]
  },
  {
   "cell_type": "markdown",
   "id": "looking-hands",
   "metadata": {},
   "source": [
    "# Regression Trees"
   ]
  },
  {
   "cell_type": "code",
   "execution_count": null,
   "id": "printable-suffering",
   "metadata": {},
   "outputs": [],
   "source": [
    "import numpy as np\n",
    "import pandas as pd\n",
    "import matplotlib.pyplot as plt\n",
    "from sklearn.tree import DecisionTreeRegressor"
   ]
  },
  {
   "cell_type": "code",
   "execution_count": null,
   "id": "international-nicaragua",
   "metadata": {},
   "outputs": [],
   "source": [
    "dataset = pd.read_csv('bases/50_Startups.csv')\n",
    "dataset.head()"
   ]
  },
  {
   "cell_type": "markdown",
   "id": "thrown-julian",
   "metadata": {},
   "source": [
    "### TO-DO 1\n",
    "\n",
    "Remova as colunas Administration e State do dataset"
   ]
  },
  {
   "cell_type": "code",
   "execution_count": null,
   "id": "anonymous-creativity",
   "metadata": {
    "jupyter": {
     "source_hidden": true
    }
   },
   "outputs": [],
   "source": [
    "#resposta\n",
    "dataset = dataset.drop(columns = ['Administration', 'State'])\n",
    "dataset.head()"
   ]
  },
  {
   "cell_type": "markdown",
   "id": "painful-length",
   "metadata": {},
   "source": [
    "### TO-DO 2\n",
    "Separe o dataset em vetor de características e variável meta"
   ]
  },
  {
   "cell_type": "code",
   "execution_count": null,
   "id": "capable-ordinance",
   "metadata": {
    "jupyter": {
     "source_hidden": true
    }
   },
   "outputs": [],
   "source": [
    "#resposta\n",
    "X = dataset.iloc[:, :-1].values\n",
    "y = dataset.iloc[:, -1].values\n",
    "\n",
    "assert type(X) == np.ndarray, \"É esperado que X seja um numpy.ndarray\"\n",
    "assert type(y) == np.ndarray, \"É esperado que y seja um numpy.ndarray\""
   ]
  },
  {
   "cell_type": "markdown",
   "id": "distinct-cleaner",
   "metadata": {},
   "source": [
    "### TO-DO 3\n",
    "Treine um modelo de regressão usando Regression Tree"
   ]
  },
  {
   "cell_type": "code",
   "execution_count": null,
   "id": "handy-anxiety",
   "metadata": {
    "jupyter": {
     "source_hidden": true
    }
   },
   "outputs": [],
   "source": [
    "#resposta\n",
    "regressor = DecisionTreeRegressor(random_state = 0)\n",
    "regressor.fit(X, y) "
   ]
  },
  {
   "cell_type": "markdown",
   "id": "coupled-sharing",
   "metadata": {},
   "source": [
    "### TO-DO 4\n",
    "Suponha que a empresa tenha um orçamento de R$ 500.000,00.\n",
    "\n",
    "Eles estão considerando três opções:\n",
    "\n",
    "> R&D: 300.000,00 ; Marketing: 200.000,00\n",
    "\n",
    "> R&D: 200.000,00 ; Marketing: 300.000,00\n",
    "\n",
    "> R&D: 100.000,00 ; Marketing: 400.000,00\n",
    "\n",
    "Qual opção irá, a partir do modelo treinado, retornar o maior lucro?"
   ]
  },
  {
   "cell_type": "code",
   "execution_count": null,
   "id": "patent-divorce",
   "metadata": {
    "jupyter": {
     "source_hidden": true
    }
   },
   "outputs": [],
   "source": [
    "# resposta\n",
    "orcamentos = [[300000, 200000], [200000,300000], [100000,400000]]\n",
    "\n",
    "for orcamento in orcamentos:\n",
    "    y_pred = regressor.predict([orcamento])\n",
    "    print(\"Orçamento:\", orcamento,\n",
    "          \"\\nLucro Predito:\", y_pred)\n",
    "    print()"
   ]
  },
  {
   "cell_type": "code",
   "execution_count": null,
   "id": "electric-pregnancy",
   "metadata": {},
   "outputs": [],
   "source": [
    "from sklearn import linear_model"
   ]
  },
  {
   "cell_type": "code",
   "execution_count": null,
   "id": "generic-organic",
   "metadata": {
    "jupyter": {
     "source_hidden": true
    }
   },
   "outputs": [],
   "source": [
    "model = linear_model.LinearRegression()\n",
    "model.fit(X, y)"
   ]
  },
  {
   "cell_type": "code",
   "execution_count": null,
   "id": "prostate-account",
   "metadata": {
    "jupyter": {
     "source_hidden": true
    }
   },
   "outputs": [],
   "source": [
    "for orcamento in orcamentos:\n",
    "    y_pred = model.predict([orcamento])\n",
    "    print(\"Orçamento:\", orcamento,\n",
    "          \"\\nLucro Predito:\", y_pred)\n",
    "    print()"
   ]
  },
  {
   "cell_type": "code",
   "execution_count": null,
   "id": "patent-threat",
   "metadata": {},
   "outputs": [],
   "source": []
  }
 ],
 "metadata": {
  "kernelspec": {
   "display_name": "Python 3",
   "language": "python",
   "name": "python3"
  },
  "language_info": {
   "codemirror_mode": {
    "name": "ipython",
    "version": 3
   },
   "file_extension": ".py",
   "mimetype": "text/x-python",
   "name": "python",
   "nbconvert_exporter": "python",
   "pygments_lexer": "ipython3",
   "version": "3.7.5"
  }
 },
 "nbformat": 4,
 "nbformat_minor": 5
}
