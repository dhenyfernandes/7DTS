{
 "cells": [
  {
   "cell_type": "markdown",
   "id": "6315ced9-b20f-4c96-b28d-5671dd3464ef",
   "metadata": {},
   "source": [
    "# Regression Trees"
   ]
  },
  {
   "cell_type": "code",
   "execution_count": null,
   "id": "663b7009-1c71-49d5-b1a9-de9f8921c00c",
   "metadata": {},
   "outputs": [],
   "source": [
    "import pandas as pd\n",
    "from sklearn.tree import DecisionTreeRegressor\n",
    "from sklearn import tree\n",
    "from sklearn.model_selection import train_test_split\n",
    "import matplotlib.pyplot as plt\n",
    "import re\n",
    "import numpy as np"
   ]
  },
  {
   "cell_type": "code",
   "execution_count": null,
   "id": "e191846f-4d6a-40c0-b1c1-a69ab3d76ae3",
   "metadata": {},
   "outputs": [],
   "source": [
    "df = pd.read_csv('bases/auto-mpg.csv')"
   ]
  },
  {
   "cell_type": "code",
   "execution_count": null,
   "id": "5d59e0b7-3dfd-4b70-8688-d99b3ecc6d95",
   "metadata": {},
   "outputs": [],
   "source": [
    "df.head()"
   ]
  },
  {
   "cell_type": "code",
   "execution_count": null,
   "id": "9a9456e2-2819-43c8-8560-0e83014540a4",
   "metadata": {},
   "outputs": [],
   "source": [
    "df['horsepower'].unique()"
   ]
  },
  {
   "cell_type": "code",
   "execution_count": null,
   "id": "83c27544-3f55-45c6-a7cc-0ea05667fb7b",
   "metadata": {},
   "outputs": [],
   "source": [
    "# Eliminando valores '?'\n",
    "# re.sub('?', np.nan, df['horsepower'])\n",
    "# df['horsepower'].fillna(df['horsepower'].median(), inplace=True)\n",
    "df = df[df['horsepower']!='?']"
   ]
  },
  {
   "cell_type": "code",
   "execution_count": null,
   "id": "8e927415-4af2-4396-b9f0-e86702076a52",
   "metadata": {},
   "outputs": [],
   "source": [
    "features = ['horsepower', 'weight']\n",
    "# Garantindo que estão no formato correto\n",
    "for ft in features:\n",
    "    df[ft] = pd.to_numeric(df[ft])\n",
    "# Construindo matriz de features e vetor de true labels\n",
    "X = df[features]\n",
    "y = df['mpg'].values.tolist()"
   ]
  },
  {
   "cell_type": "code",
   "execution_count": null,
   "id": "470ef1eb-bdf1-4f82-bffa-ce33aa6d5342",
   "metadata": {},
   "outputs": [],
   "source": [
    "# Instanciando\n",
    "reg = DecisionTreeRegressor(max_depth=2, min_samples_split=3)"
   ]
  },
  {
   "cell_type": "code",
   "execution_count": null,
   "id": "b6c623f8-1789-45ae-838a-a5a9862a3a3f",
   "metadata": {},
   "outputs": [],
   "source": [
    "# Fit\n",
    "reg.fit(X,y)"
   ]
  },
  {
   "cell_type": "code",
   "execution_count": null,
   "id": "bfcdcd35-8bd8-4039-ae1f-38dfbb198604",
   "metadata": {},
   "outputs": [],
   "source": [
    "# Visualizando\n",
    "print(tree.export_text(reg))"
   ]
  },
  {
   "cell_type": "code",
   "execution_count": null,
   "id": "c4475aa2-2a36-4ce1-bd52-cc71656eef3b",
   "metadata": {},
   "outputs": [],
   "source": [
    "#predict\n",
    "reg.predict([['300','4000']])"
   ]
  },
  {
   "cell_type": "markdown",
   "id": "111e98b0-370e-49df-9b9e-00a822a7d6ee",
   "metadata": {},
   "source": [
    "# Prunning"
   ]
  },
  {
   "cell_type": "code",
   "execution_count": null,
   "id": "b62b3737-86df-4984-a2f0-72bac7607b75",
   "metadata": {},
   "outputs": [],
   "source": [
    "# vamos usar um dataset diferente para entender o processo de prunning\n",
    "from sklearn.datasets import load_breast_cancer\n",
    "X, y = load_breast_cancer(return_X_y=True)"
   ]
  },
  {
   "cell_type": "code",
   "execution_count": null,
   "id": "0741d3ea-76de-41b4-9c82-44ad90e18ebc",
   "metadata": {},
   "outputs": [],
   "source": [
    "#separando o arquivo em conjunto de treino e teste\n",
    "X_train, X_test, y_train, y_test = train_test_split(X, y, random_state=0)"
   ]
  },
  {
   "cell_type": "code",
   "execution_count": null,
   "id": "36322107-8495-433a-bcf7-8e4570323d5a",
   "metadata": {},
   "outputs": [],
   "source": [
    "#Calculando Cost Complecity Pruning\n",
    "# Aqui, vou usar Decision Tree Classifier, voltado para classificação, apenas para fins didáticos. O processo é o mesmo para regressão\n",
    "from sklearn.tree import DecisionTreeClassifier\n",
    "clf = DecisionTreeClassifier()\n",
    "path = clf.cost_complexity_pruning_path(X_train,y_train)"
   ]
  },
  {
   "cell_type": "code",
   "execution_count": null,
   "id": "9068870e-0e92-426f-a852-f119460277b6",
   "metadata": {},
   "outputs": [],
   "source": [
    "path"
   ]
  },
  {
   "cell_type": "code",
   "execution_count": null,
   "id": "b89a564d-9745-4e8d-9767-de9d8c321d72",
   "metadata": {},
   "outputs": [],
   "source": [
    "# obtendo valores de alpha e impureza\n",
    "ccp_alphas, impurities = path.ccp_alphas, path.impurities"
   ]
  },
  {
   "cell_type": "code",
   "execution_count": null,
   "id": "9572f95a-bd6f-44dd-b156-fc839dea1988",
   "metadata": {},
   "outputs": [],
   "source": [
    "# plot\n",
    "fig, ax = plt.subplots()\n",
    "ax.plot(ccp_alphas[:-1], impurities[:-1], marker=\"o\", drawstyle=\"steps-post\")\n",
    "ax.set_xlabel(\"effective alpha\")\n",
    "ax.set_ylabel(\"total impurity of leaves\")\n",
    "ax.set_title(\"Total Impurity vs effective alpha for training set\")"
   ]
  },
  {
   "cell_type": "code",
   "execution_count": null,
   "id": "e9b50af0-257b-4899-9541-aeaa1bfa9f7c",
   "metadata": {},
   "outputs": [],
   "source": [
    "# Treinando a árvore com diferentes valores de alpha\n",
    "clfs = []\n",
    "for ccp_alpha in ccp_alphas:\n",
    "    clf = DecisionTreeClassifier(random_state=0, ccp_alpha=ccp_alpha)\n",
    "    clf.fit(X_train, y_train)\n",
    "    clfs.append(clf)\n",
    "print(\n",
    "    \"Number of nodes in the last tree is: {} with ccp_alpha: {}\".format(\n",
    "        clfs[-1].tree_.node_count, ccp_alphas[-1]\n",
    "    )\n",
    ")"
   ]
  },
  {
   "cell_type": "code",
   "execution_count": null,
   "id": "ada1b45e-6d96-4e20-8ebe-196aed53fd87",
   "metadata": {},
   "outputs": [],
   "source": [
    "# eliminando o último elemento de clfs e ccp_alphas por que representa a árvore com apenas uma folha\n",
    "clfs = clfs[:-1]\n",
    "ccp_alphas = ccp_alphas[:-1]"
   ]
  },
  {
   "cell_type": "code",
   "execution_count": null,
   "id": "687388d4-548a-479a-af1f-7e3c5316a418",
   "metadata": {},
   "outputs": [],
   "source": [
    "clfs"
   ]
  },
  {
   "cell_type": "code",
   "execution_count": null,
   "id": "a5f09414-a02c-4564-b904-caf198ef3b41",
   "metadata": {},
   "outputs": [],
   "source": [
    "#Obtendo os scores para cada valor de aplha\n",
    "train_scores = [clf.score(X_train, y_train) for clf in clfs]\n",
    "test_scores = [clf.score(X_test, y_test) for clf in clfs]"
   ]
  },
  {
   "cell_type": "code",
   "execution_count": null,
   "id": "ebac1f5a-a9e1-4c04-9c11-7ded7b632530",
   "metadata": {},
   "outputs": [],
   "source": [
    "#plotando\n",
    "fig, ax = plt.subplots()\n",
    "ax.set_xlabel(\"alpha\")\n",
    "ax.set_ylabel(\"accuracy\")\n",
    "ax.set_title(\"Accuracy vs alpha for training and testing sets\")\n",
    "ax.plot(ccp_alphas, train_scores, marker=\"o\", label=\"train\", drawstyle=\"steps-post\")\n",
    "ax.plot(ccp_alphas, test_scores, marker=\"o\", label=\"test\", drawstyle=\"steps-post\")\n",
    "ax.legend()\n",
    "plt.show()"
   ]
  },
  {
   "cell_type": "markdown",
   "id": "02bccbb9-13c5-4c83-a5d6-0553428a5109",
   "metadata": {},
   "source": [
    "# Decision Trees"
   ]
  },
  {
   "cell_type": "code",
   "execution_count": null,
   "id": "18febb77-b4cb-49b1-8721-cb6ec005fbb5",
   "metadata": {},
   "outputs": [],
   "source": [
    "import os\n",
    "PROJECT_ROOT_DIR = \".\"\n",
    "CHAPTER_ID = \"decision_trees\"\n",
    "IMAGES_PATH = os.path.join(PROJECT_ROOT_DIR, \"images\", CHAPTER_ID)\n",
    "os.makedirs(IMAGES_PATH, exist_ok=True)\n"
   ]
  },
  {
   "cell_type": "code",
   "execution_count": null,
   "id": "55a2bda8-d442-4ca0-a2a3-cef794a439d5",
   "metadata": {},
   "outputs": [],
   "source": [
    "from sklearn.datasets import load_iris\n",
    "from sklearn.tree import DecisionTreeClassifier\n",
    " \n",
    "iris = load_iris()\n",
    "X = iris.data[:, 2:] # petal length and width\n",
    "y = iris.target\n",
    "\n",
    "tree_clf = DecisionTreeClassifier(max_depth=2, random_state=42)\n",
    "tree_clf.fit(X, y)"
   ]
  },
  {
   "cell_type": "code",
   "execution_count": null,
   "id": "96e6f314-b72c-4642-ae55-3f98f1ce8fa3",
   "metadata": {},
   "outputs": [],
   "source": [
    "iris"
   ]
  },
  {
   "cell_type": "markdown",
   "id": "daa6b87e-75f3-4c9a-95cc-1be8e6a7d430",
   "metadata": {},
   "source": [
    "É possível visualizar a árvore de decisão treinada usando o método export_graphviz(). \n",
    "OBS: Verifique se o pacote está instalado"
   ]
  },
  {
   "cell_type": "code",
   "execution_count": null,
   "id": "0fd51a34-c5c1-49e0-be24-02f0ccf64ff9",
   "metadata": {},
   "outputs": [],
   "source": [
    "from sklearn.tree import export_graphviz\n",
    "\n",
    "def image_path(fig_id):\n",
    "    return os.path.join(IMAGES_PATH, fig_id)\n",
    "\n",
    "export_graphviz(\n",
    "        tree_clf,\n",
    "        out_file=image_path(\"iris_tree.dot\"),\n",
    "        feature_names=iris.feature_names[2:],\n",
    "        class_names=iris.target_names,\n",
    "        rounded=True,\n",
    "        filled=True\n",
    "    )"
   ]
  },
  {
   "cell_type": "markdown",
   "id": "b017078c-15c5-40fc-911b-f35598ee4f8b",
   "metadata": {},
   "source": [
    "Agora, vá em File -> New -> Terminal:\n",
    "\n",
    "1. Navegue até a pasta onde o arquivo ires_tree.dot foi gerado \n",
    "2. Execute o seguinte código: dot -Tpng .\\iris_tree.dot -o iris_tree.png\n",
    "\n",
    "Isso vai gerar um arquivo png que mostrará como ficou nossa árvore. Vou adicioná-la aqui para facilitar nosso entendimento"
   ]
  },
  {
   "cell_type": "markdown",
   "id": "478088a8-faa9-456d-9ed6-1a61afab9d82",
   "metadata": {},
   "source": [
    "<img src=\"images/decision_trees/iris_tree.png\" />"
   ]
  },
  {
   "cell_type": "markdown",
   "id": "880b4eea-7c68-46e1-bd18-88007fa7380c",
   "metadata": {},
   "source": [
    "### Como o classificador realiza novas predições?\n",
    "\n",
    "- Começando pela raiz, verifique se o comprimento da pétala é menor que 2.45cm.\n",
    "\n",
    "    - Se for, vá para o nó da esquerda. Como é um nó folha, a árvore prediz que a classe é setosa\n",
    "    \n",
    "    - Se não, vá para o nó da direita. Verifique se a largura da folha é menor que 1.75cm.\n",
    "    \n",
    "        - Se for, vá para o nó folha da esquerda. A flor será classificada como versicolor\n",
    "        \n",
    "        - Se não, vá para o nó folha da direita. A flor será classificada como virginica"
   ]
  },
  {
   "cell_type": "markdown",
   "id": "9394ffbf-3e4f-4317-8d33-417e311a8832",
   "metadata": {},
   "source": [
    "### Desicion Boundaries\n",
    "É possível verificar as fronteiras de decisão que o arquivo encontrou na construção da árvore. O código abaixo nos fornece uma visualização. "
   ]
  },
  {
   "cell_type": "code",
   "execution_count": null,
   "id": "bfe89e10-1cf9-4c29-a32a-4a9f99d40114",
   "metadata": {},
   "outputs": [],
   "source": [
    "import numpy as np\n",
    "import matplotlib.pyplot as plt\n",
    "from matplotlib.colors import ListedColormap\n",
    "\n",
    "def plot_decision_boundary(clf, X, y, axes=[0, 7.5, 0, 3], iris=True, legend=False, plot_training=True):\n",
    "    x1s = np.linspace(axes[0], axes[1], 100)\n",
    "    x2s = np.linspace(axes[2], axes[3], 100)\n",
    "    x1, x2 = np.meshgrid(x1s, x2s)\n",
    "    X_new = np.c_[x1.ravel(), x2.ravel()]\n",
    "    y_pred = clf.predict(X_new).reshape(x1.shape)\n",
    "    custom_cmap = ListedColormap(['#fafab0','#9898ff','#a0faa0'])\n",
    "    plt.contourf(x1, x2, y_pred, alpha=0.3, cmap=custom_cmap)\n",
    "    if not iris:\n",
    "        custom_cmap2 = ListedColormap(['#7d7d58','#4c4c7f','#507d50'])\n",
    "        plt.contour(x1, x2, y_pred, cmap=custom_cmap2, alpha=0.8)\n",
    "    if plot_training:\n",
    "        plt.plot(X[:, 0][y==0], X[:, 1][y==0], \"yo\", label=\"Iris setosa\")\n",
    "        plt.plot(X[:, 0][y==1], X[:, 1][y==1], \"bs\", label=\"Iris versicolor\")\n",
    "        plt.plot(X[:, 0][y==2], X[:, 1][y==2], \"g^\", label=\"Iris virginica\")\n",
    "        plt.axis(axes)\n",
    "    if iris:\n",
    "        plt.xlabel(\"Petal length\", fontsize=14)\n",
    "        plt.ylabel(\"Petal width\", fontsize=14)\n",
    "    else:\n",
    "        plt.xlabel(r\"$x_1$\", fontsize=18)\n",
    "        plt.ylabel(r\"$x_2$\", fontsize=18, rotation=0)\n",
    "    if legend:\n",
    "        plt.legend(loc=\"lower right\", fontsize=14)\n",
    "\n",
    "plt.figure(figsize=(8, 4))\n",
    "plot_decision_boundary(tree_clf, X, y)\n",
    "plt.plot([2.45, 2.45], [0, 3], \"k-\", linewidth=2)\n",
    "plt.plot([2.45, 7.5], [1.75, 1.75], \"k--\", linewidth=2)\n",
    "plt.plot([4.95, 4.95], [0, 1.75], \"k:\", linewidth=2)\n",
    "plt.plot([4.85, 4.85], [1.75, 3], \"k:\", linewidth=2)\n",
    "plt.text(1.40, 1.0, \"Depth=0\", fontsize=15)\n",
    "plt.text(3.2, 1.80, \"Depth=1\", fontsize=13)\n",
    "plt.text(4.05, 0.5, \"(Depth=2)\", fontsize=11)\n",
    "\n",
    "plt.show()"
   ]
  },
  {
   "cell_type": "markdown",
   "id": "bd30bfa9-7aad-434e-90fd-150ea3280c77",
   "metadata": {},
   "source": [
    "A linha mais grossa representa a fronteira de decisão do nó raiz: petal length = 2.45cm. Como a área à esquerda é pura, não há mais splits. Entretanto, a área à direita é impura, então o nó é dividido quando petal eidth = 1.75cm. Visto que max_depth=2, Decision Tree para aqui. "
   ]
  },
  {
   "cell_type": "markdown",
   "id": "9ea17740-9a09-4ff6-9af0-69420786354f",
   "metadata": {},
   "source": [
    "### Estimando as probabilidades das classes\n",
    "\n",
    "Uma Árvore de Decisão pode estimar a probabilidade de uma instância pertencer a uma classe particular. Suponha que uma flor tenha 5cm de comprimento e 1.5cm de largura. O nó correspondente seria o Depth-2 a esquerda. Nesse caso, a Árvore retornaria as seguintes probabilidades:\n",
    "\n",
    "- 0% parra *Iris Setosa* (0/54)\n",
    "- 90.7% para *Iris Versicolor* (49/54)\n",
    "- 9.3% para Iris Virginica* (5/54)"
   ]
  },
  {
   "cell_type": "code",
   "execution_count": null,
   "id": "6273a6c0-33ad-4d89-a33f-bd06d666f504",
   "metadata": {},
   "outputs": [],
   "source": [
    "tree_clf.predict_proba([[5, 1.5]])"
   ]
  },
  {
   "cell_type": "markdown",
   "id": "47281db2-7ebf-4800-8aa6-43f03e592d59",
   "metadata": {},
   "source": [
    "E se você solicitar a predição da classe, o algoritmo retornará *Iris versicolor* (classe 1), visto que ela possui a maior probabilidade:"
   ]
  },
  {
   "cell_type": "code",
   "execution_count": null,
   "id": "d01f5a32-385d-40e0-a21b-53fd00f10527",
   "metadata": {},
   "outputs": [],
   "source": [
    "tree_clf.predict([[5, 1.5]])"
   ]
  },
  {
   "cell_type": "markdown",
   "id": "731b8fb7-30d2-4cb3-91d8-a4d424b687cf",
   "metadata": {},
   "source": [
    "### Regularização dos Hiperparâmetros\n",
    "\n",
    "Árvores de decisão assumem poucas suposições acerca dos dados de treinamento (ao contrário dos modelos lineares, que assumem que os dados são lineares). Se deixada sem restrição, a árvore irá se adaptar aos dados de treino, dando um fit muito próximo (na verdade, overfit). \n",
    "\n",
    "Tais modelos são chamados não-paramétricos, mas não porque não possuem parâmetros (ou hiperparâmetros), mas porque o número de parâmetros não é determinado antes do treino.\n",
    "\n",
    "PAra evitar overfitting, é preciso restringir a liberdade da Árvore de Decisão durante o treinamento. Isto é chamado de regularização. Alguns hiperparâmetros que podem ser ajustados para evitar overfitting numa Árvore de decisão:\n",
    "\n",
    "- max_depth (profundidade máxima da árvore - delimita o número de splits)\n",
    "- min_samples_split (número mínimo de amostras que um nó deve ter antes do split)\n",
    "- min_sampes_leaf (número mínimo de amostras que um nó folha deve ter)"
   ]
  },
  {
   "cell_type": "markdown",
   "id": "ce4c1ac0-7823-4f9e-9c4a-6d0b64cffcd8",
   "metadata": {},
   "source": [
    "O código abaixo apresenta duas Árvores treinadas no dataset moons. A da esquerda foi treinada com hiperparâmetros padrões (sem restrições), enquanto a da direita foi regularizada (min_samples_leaf=4). \n",
    "\n",
    "Podemos observar que o modelo da esquerda está dando overfiting e que o modelo da direita irá generalizar melhor. "
   ]
  },
  {
   "cell_type": "code",
   "execution_count": null,
   "id": "f8b90256-243b-4454-bcac-db0632a33596",
   "metadata": {},
   "outputs": [],
   "source": [
    "from sklearn.datasets import make_moons\n",
    "Xm, ym = make_moons(n_samples=100, noise=0.25, random_state=53)\n",
    "\n",
    "deep_tree_clf1 = DecisionTreeClassifier(random_state=42)\n",
    "deep_tree_clf2 = DecisionTreeClassifier(min_samples_leaf=4,max_depth=3 random_state=42)\n",
    "deep_tree_clf1.fit(Xm, ym)\n",
    "deep_tree_clf2.fit(Xm, ym)\n",
    "\n",
    "fig, axes = plt.subplots(ncols=2, figsize=(10, 4), sharey=True)\n",
    "plt.sca(axes[0])\n",
    "plot_decision_boundary(deep_tree_clf1, Xm, ym, axes=[-1.5, 2.4, -1, 1.5], iris=False)\n",
    "plt.title(\"No restrictions\", fontsize=16)\n",
    "plt.sca(axes[1])\n",
    "plot_decision_boundary(deep_tree_clf2, Xm, ym, axes=[-1.5, 2.4, -1, 1.5], iris=False)\n",
    "plt.title(\"min_samples_leaf = {}\".format(deep_tree_clf2.min_samples_leaf), fontsize=14)\n",
    "plt.ylabel(\"\")\n",
    "\n",
    "plt.show()"
   ]
  }
 ],
 "metadata": {
  "kernelspec": {
   "display_name": "Python 3 (ipykernel)",
   "language": "python",
   "name": "python3"
  },
  "language_info": {
   "codemirror_mode": {
    "name": "ipython",
    "version": 3
   },
   "file_extension": ".py",
   "mimetype": "text/x-python",
   "name": "python",
   "nbconvert_exporter": "python",
   "pygments_lexer": "ipython3",
   "version": "3.10.9"
  }
 },
 "nbformat": 4,
 "nbformat_minor": 5
}
