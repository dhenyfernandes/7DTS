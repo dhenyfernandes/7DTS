{
 "cells": [
  {
   "cell_type": "markdown",
   "id": "56cf7b80-5dad-4250-abd5-112cb1dce2a3",
   "metadata": {},
   "source": [
    "# Exercícios - comparando LightGBM e XGBoost"
   ]
  },
  {
   "cell_type": "code",
   "execution_count": null,
   "id": "6aa10c1f-91ff-47be-a603-e7b7afd6d074",
   "metadata": {},
   "outputs": [],
   "source": [
    "# bibliotecas\n",
    "import numpy as np \n",
    "import pandas as pd \n",
    "import lightgbm as lgbm\n",
    "import xgboost as xgb\n",
    "from xgboost import XGBClassifier\n",
    "from lightgbm import LGBMClassifier\n",
    "from sklearn.model_selection import train_test_split\n",
    "from sklearn.metrics import accuracy_score\n",
    "from sklearn.model_selection import GridSearchCV, RandomizedSearchCV, StratifiedKFold, cross_val_score\n",
    "from datetime import datetime\n",
    "import warnings\n",
    "warnings.filterwarnings(\"ignore\")\n",
    "warnings.simplefilter(action='ignore', category=FutureWarning)"
   ]
  },
  {
   "cell_type": "code",
   "execution_count": null,
   "id": "e7feee78-2e63-40e5-be58-fd94787b1a57",
   "metadata": {},
   "outputs": [],
   "source": [
    "# dataset\n",
    "df_census = pd.read_csv('https://archive.ics.uci.edu/ml/machine-learning-databases/adult/adult.data', header=None)\n",
    "df_census.columns = ['age', 'workclass', 'fnlwgt', 'education', 'education-num', 'marital-status', 'occupation',\n",
    "                  'relationship', 'race', 'sex', 'capital-gain', 'capital-loss', 'hours-per-week', 'native-country', \n",
    "                   'income']\n",
    "df_census.head()"
   ]
  },
  {
   "cell_type": "code",
   "execution_count": null,
   "id": "fe564cb8-4037-430b-be74-dabd4a3d24d5",
   "metadata": {},
   "outputs": [],
   "source": [
    "df_census.info()"
   ]
  },
  {
   "cell_type": "code",
   "execution_count": null,
   "id": "385d9269-00c9-40be-8a32-f3f8e5751ac0",
   "metadata": {},
   "outputs": [],
   "source": [
    "# EDA\n",
    "df_census = df_census.drop(['education'], axis=1)\n",
    "df_census = pd.get_dummies(df_census)\n",
    "df_census = df_census.drop('income_ <=50K', axis=1)\n",
    "df_census.head()"
   ]
  },
  {
   "cell_type": "code",
   "execution_count": null,
   "id": "14fc0319-3c74-44e8-8e7e-9fd91023bdb6",
   "metadata": {},
   "outputs": [],
   "source": [
    "#features e labels\n",
    "X = df_census.iloc[:,:-1]\n",
    "y = df_census.iloc[:,-1]"
   ]
  },
  {
   "cell_type": "markdown",
   "id": "75b4fcb8-5c43-48b9-9cf4-04c1dc2e66a2",
   "metadata": {},
   "source": [
    "### ToDo 1\n",
    "Separe o conjunto de features com suas respectivas labels em conjunto de treino e teste na proporção de 70%-30%. Use random_state=42 para reprodutibilidade."
   ]
  },
  {
   "cell_type": "code",
   "execution_count": null,
   "id": "3e14cabf-69b1-4451-8b07-25c888b3c455",
   "metadata": {},
   "outputs": [],
   "source": [
    "#resposta"
   ]
  },
  {
   "cell_type": "markdown",
   "id": "061cb2dc-e7b4-47d4-ab88-d92c461be65b",
   "metadata": {},
   "source": [
    "### ToDo 2\n",
    "\n",
    "Treine um modelo LightGBM e um modelo XGBoost nos dados acima gerados. Utilize a versão padrão de ambos os modelos. Use a biblioteca datetime para computar o tempo de treinamento de cada modelo. Avalie ambos usando a acurácia. "
   ]
  },
  {
   "cell_type": "code",
   "execution_count": null,
   "id": "2b7a53fb-54e1-4ed4-83b9-229e0ae5d0af",
   "metadata": {},
   "outputs": [],
   "source": [
    "#resposta - XGBoost"
   ]
  },
  {
   "cell_type": "code",
   "execution_count": null,
   "id": "3b797ced-7e8b-4e66-a7f0-997667a55f95",
   "metadata": {},
   "outputs": [],
   "source": [
    "#resposta - LightGBM"
   ]
  },
  {
   "cell_type": "markdown",
   "id": "22e2f090-9e17-4f27-ac23-92d0cc3f7efd",
   "metadata": {},
   "source": [
    "### ToDo 3\n",
    "\n",
    "Modifique a função grid_search, vista na aula de XGBoost, para otimizar os parametros de ambos os modelos. Agora, ela precisa permitir receber, além do conjunto de treino e respectivas respostas, o conjunto de teste e respectivas respostas.  "
   ]
  },
  {
   "cell_type": "code",
   "execution_count": null,
   "id": "b808dc95-8d69-419f-bf2b-3308b748a055",
   "metadata": {},
   "outputs": [],
   "source": [
    "# resposta"
   ]
  },
  {
   "cell_type": "markdown",
   "id": "0740e9fd-ee4d-418b-a21b-d8b2b5448bfb",
   "metadata": {},
   "source": [
    "### ToDo 4\n",
    "Otimize os hiperparâmetros que achar conveniente. Compare o tempo de treinamento e a acurácia de cada modelo\n",
    "\n",
    "* Parâmetros XGBoost -> [link](https://xgboost.readthedocs.io/en/stable/parameter.html)\n",
    "\n",
    "* Parâmetros LightGBM -> [link](https://lightgbm.readthedocs.io/en/latest/Parameters.html)"
   ]
  },
  {
   "cell_type": "code",
   "execution_count": null,
   "id": "3f38e3e1-eb02-4354-9695-e748dd196909",
   "metadata": {},
   "outputs": [],
   "source": [
    "# resposta - XGBoost"
   ]
  },
  {
   "cell_type": "code",
   "execution_count": null,
   "id": "14515a3a-f996-421b-a377-225267752f9e",
   "metadata": {},
   "outputs": [],
   "source": [
    "# resposta - LightGBM"
   ]
  },
  {
   "cell_type": "markdown",
   "id": "aa59eb88-9d0e-4523-aef6-177994356460",
   "metadata": {},
   "source": [
    "#### ToDo 5\n",
    "\n",
    "Apenas para LightGBM. Use os parametros encontrados pelo boosting e treine 4 versoes diferentes usando os diferentes tipos de boosting (gbdt, goss, dart e rf).\n",
    "\n",
    "* Obs: quando boosting_type=rf, use dois parametros adicionais\n",
    "\n",
    "    -> bagging_freq=1\n",
    "    \n",
    "    -> bagging_fraction=0.8"
   ]
  },
  {
   "cell_type": "code",
   "execution_count": null,
   "id": "e4913ae8-b352-4e1a-9faa-8eb105a6b047",
   "metadata": {},
   "outputs": [],
   "source": [
    "#GBDT"
   ]
  },
  {
   "cell_type": "code",
   "execution_count": null,
   "id": "a10111b8-0b67-4697-a356-d011ee762137",
   "metadata": {},
   "outputs": [],
   "source": [
    "#Goss"
   ]
  },
  {
   "cell_type": "code",
   "execution_count": null,
   "id": "e6e18e67-8635-4459-a897-8d6b40ae7aad",
   "metadata": {},
   "outputs": [],
   "source": [
    "#DART"
   ]
  },
  {
   "cell_type": "code",
   "execution_count": null,
   "id": "849e4c3f-ae63-476c-a034-825f771befd1",
   "metadata": {},
   "outputs": [],
   "source": [
    "#RF"
   ]
  }
 ],
 "metadata": {
  "kernelspec": {
   "display_name": "Python 3 (ipykernel)",
   "language": "python",
   "name": "python3"
  },
  "language_info": {
   "codemirror_mode": {
    "name": "ipython",
    "version": 3
   },
   "file_extension": ".py",
   "mimetype": "text/x-python",
   "name": "python",
   "nbconvert_exporter": "python",
   "pygments_lexer": "ipython3",
   "version": "3.9.12"
  }
 },
 "nbformat": 4,
 "nbformat_minor": 5
}
