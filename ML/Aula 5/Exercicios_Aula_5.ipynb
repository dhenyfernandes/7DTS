{
 "cells": [
  {
   "cell_type": "markdown",
   "id": "ab349713-13f5-4098-bd29-9eadeee67413",
   "metadata": {},
   "source": [
    "# Random Forest Regressor"
   ]
  },
  {
   "cell_type": "code",
   "execution_count": null,
   "id": "62d31432-0bde-49bd-a0af-e6bcfd12ca0c",
   "metadata": {},
   "outputs": [],
   "source": [
    "import numpy as np\n",
    "import pandas as pd\n",
    "import matplotlib.pyplot as plt\n",
    "from sklearn.tree import DecisionTreeRegressor\n",
    "from sklearn.ensemble import RandomForestRegressor"
   ]
  },
  {
   "cell_type": "code",
   "execution_count": null,
   "id": "0e17b621-eac8-45ab-bcdc-22f8362b89c7",
   "metadata": {},
   "outputs": [],
   "source": [
    "dataset = pd.read_csv('bases/50_Startups.csv')\n",
    "dataset.head()"
   ]
  },
  {
   "cell_type": "markdown",
   "id": "547c7253-1798-4cf4-a109-6e490f6e27d2",
   "metadata": {},
   "source": [
    "### TO-DO 1\n",
    "\n",
    "Remova as colunas Administration e State do dataset"
   ]
  },
  {
   "cell_type": "code",
   "execution_count": null,
   "id": "9d2e5e07-7302-47d4-9412-a8aa51d617d1",
   "metadata": {
    "tags": []
   },
   "outputs": [],
   "source": [
    "#resposta"
   ]
  },
  {
   "cell_type": "markdown",
   "id": "b4fb758e-965d-400e-8bf0-891205914676",
   "metadata": {},
   "source": [
    "### TO-DO 2\n",
    "Separe o dataset em vetor de características e variável meta"
   ]
  },
  {
   "cell_type": "code",
   "execution_count": null,
   "id": "07ba5c63-adff-4255-b183-2423ab682064",
   "metadata": {
    "tags": []
   },
   "outputs": [],
   "source": [
    "#resposta"
   ]
  },
  {
   "cell_type": "markdown",
   "id": "ee19e0e8-2cbc-4f5d-ab7b-3f94492b41e5",
   "metadata": {},
   "source": [
    "### TO-DO 3\n",
    "Treine um modelo de regressão usando Regression Tree e outro usando Random Forest Regressor"
   ]
  },
  {
   "cell_type": "code",
   "execution_count": null,
   "id": "61b84ffc-d809-4402-b882-385512c15a4a",
   "metadata": {
    "tags": []
   },
   "outputs": [],
   "source": [
    "#resposta"
   ]
  },
  {
   "cell_type": "markdown",
   "id": "b43262f2-18de-4e87-99e7-828b5d102a65",
   "metadata": {},
   "source": [
    "### TO-DO 4\n",
    "Suponha que a empresa tenha um orçamento de R$ 500.000,00.\n",
    "\n",
    "Eles estão considerando três opções:\n",
    "\n",
    "> R&D: 300.000,00 ; Marketing: 200.000,00\n",
    "\n",
    "> R&D: 200.000,00 ; Marketing: 300.000,00\n",
    "\n",
    "> R&D: 100.000,00 ; Marketing: 400.000,00\n",
    "\n",
    "Qual opção irá, a partir do modelo treinado, retornar o maior lucro? Faça um para cada modelo"
   ]
  },
  {
   "cell_type": "code",
   "execution_count": null,
   "id": "a5474727-2826-4c5f-9f63-eb6f35eaef20",
   "metadata": {
    "tags": []
   },
   "outputs": [],
   "source": [
    "# resposta"
   ]
  },
  {
   "cell_type": "markdown",
   "id": "691b3d73-4717-4e69-a388-a1c86c3182c3",
   "metadata": {},
   "source": [
    "# Random Forest Classifier"
   ]
  },
  {
   "cell_type": "code",
   "execution_count": null,
   "id": "involved-wrist",
   "metadata": {},
   "outputs": [],
   "source": [
    "from sklearn import datasets\n",
    "from sklearn.model_selection import train_test_split\n",
    "from sklearn import svm\n",
    "from sklearn import metrics\n",
    "from sklearn.ensemble import RandomForestClassifier\n",
    "from sklearn.tree import DecisionTreeClassifier"
   ]
  },
  {
   "cell_type": "code",
   "execution_count": null,
   "id": "aquatic-sheffield",
   "metadata": {},
   "outputs": [],
   "source": [
    "#fazendo o download dos dados direto dos datasets presente na scikit-learn\n",
    "data = datasets.load_breast_cancer()\n",
    "data.feature_names"
   ]
  },
  {
   "cell_type": "code",
   "execution_count": null,
   "id": "correct-scroll",
   "metadata": {},
   "outputs": [],
   "source": [
    "#variável meta (target) -> aquilos que estamos tentando prever\n",
    "#no caso: cancer benigno ou maligno\n",
    "data.target_names"
   ]
  },
  {
   "cell_type": "code",
   "execution_count": null,
   "id": "coated-telephone",
   "metadata": {},
   "outputs": [],
   "source": [
    "#linhas x colunas\n",
    "data.data.shape"
   ]
  },
  {
   "cell_type": "code",
   "execution_count": null,
   "id": "vocal-adjustment",
   "metadata": {},
   "outputs": [],
   "source": [
    "#visualizando as 5 primeiras amostras\n",
    "data.data[0:5]"
   ]
  },
  {
   "cell_type": "markdown",
   "id": "2c69c5d9-2405-4017-8bb6-72ef4e864d5f",
   "metadata": {},
   "source": [
    "## TODO 1\n",
    "> Separe o dataset em conjunto de treino e teste, sendo 70% para treino e 30% para teste"
   ]
  },
  {
   "cell_type": "code",
   "execution_count": null,
   "id": "stuffed-capital",
   "metadata": {
    "tags": []
   },
   "outputs": [],
   "source": [
    "#resposta"
   ]
  },
  {
   "cell_type": "markdown",
   "id": "75b3767b-b76d-424b-8e2c-a2644848e5af",
   "metadata": {},
   "source": [
    "## TODO 2\n",
    "> Treine uma árvore de classificacao nesse conjunto de dados\n",
    "\n",
    "> faca a predicao do conjunto de teste\n",
    "\n",
    "> obtenha a Acurácia, Precision, Recall"
   ]
  },
  {
   "cell_type": "code",
   "execution_count": null,
   "id": "2f31b7de-d9d9-4a5f-957f-1d4e15d9b15c",
   "metadata": {},
   "outputs": [],
   "source": [
    "# resposta"
   ]
  },
  {
   "cell_type": "code",
   "execution_count": null,
   "id": "8c0fe44e-789c-40b8-a76d-17085e8adbc6",
   "metadata": {},
   "outputs": [],
   "source": [
    "# resposta"
   ]
  },
  {
   "cell_type": "code",
   "execution_count": null,
   "id": "b1b03cda-ad42-4187-8bb0-ece6800e8a81",
   "metadata": {},
   "outputs": [],
   "source": [
    "# resposta"
   ]
  },
  {
   "cell_type": "markdown",
   "id": "993f0519-0f66-496d-9056-333439d75571",
   "metadata": {},
   "source": [
    "## TODO 3\n",
    "> Treine uma Random Forest Classifier nesse conjunto de dados\n",
    "\n",
    "> faça a predição do conjunto de teste\n",
    "\n",
    "> obtenha a Acurácia, Precision, Recall"
   ]
  },
  {
   "cell_type": "code",
   "execution_count": null,
   "id": "a4eae023-784a-4940-aa1d-f08374c9e5d9",
   "metadata": {},
   "outputs": [],
   "source": [
    "#resposta"
   ]
  },
  {
   "cell_type": "code",
   "execution_count": null,
   "id": "605cabe3-2c53-4db5-978c-238d0179a225",
   "metadata": {},
   "outputs": [],
   "source": [
    "#resposta"
   ]
  },
  {
   "cell_type": "code",
   "execution_count": null,
   "id": "eb0f5c5a-c984-4ba8-8c8b-eed44025aed2",
   "metadata": {},
   "outputs": [],
   "source": [
    "#resposta"
   ]
  },
  {
   "cell_type": "code",
   "execution_count": null,
   "id": "8fc597fc-bf0c-4de3-a9fc-a133ab9e4f25",
   "metadata": {},
   "outputs": [],
   "source": []
  }
 ],
 "metadata": {
  "kernelspec": {
   "display_name": "Python 3 (ipykernel)",
   "language": "python",
   "name": "python3"
  },
  "language_info": {
   "codemirror_mode": {
    "name": "ipython",
    "version": 3
   },
   "file_extension": ".py",
   "mimetype": "text/x-python",
   "name": "python",
   "nbconvert_exporter": "python",
   "pygments_lexer": "ipython3",
   "version": "3.10.9"
  }
 },
 "nbformat": 4,
 "nbformat_minor": 5
}
